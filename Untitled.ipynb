{
 "cells": [
  {
   "cell_type": "code",
   "execution_count": 57,
   "metadata": {
    "scrolled": true
   },
   "outputs": [
    {
     "name": "stdout",
     "output_type": "stream",
     "text": [
      "0.8004731968898986\n",
      "Counter({2: 974, 7: 649, 11: 648, 3: 644, 9: 604, 0: 102, 1: 83, 6: 82, 10: 78, 5: 64, 4: 52, 8: 43, 12: 38})\n"
     ]
    },
    {
     "data": {
      "image/png": "[encoded data removed]",
      "text/plain": [
       "<Figure size 432x288 with 1 Axes>"
      ]
     },
     "metadata": {
      "needs_background": "light"
     },
     "output_type": "display_data"
    },
    {
     "name": "stdout",
     "output_type": "stream",
     "text": [
      "['you', 'youv', 'rt', 'care', 'receiv', 'tip', 'everyth', 'warn', 'ar', 'dai', 'recal', 'share', 'youll', 'fri', 'learn', 'todai', 'new', 'coverag', 'everi', 'chang']\n",
      "['heart', 'you', 'dont', 'patient', 'attack', 'like', 'live', 'wors', 'win', 'matter', 'we', 'thing', 'doe', 'park', 'last', 'cook', 'mad', 'cannabi', 'talk', 'diseas']\n"
     ]
    }
   ],
   "source": [
    "from sklearn.decomposition import LatentDirichletAllocation,PCA\n",
    "from sklearn.cluster import DBSCAN\n",
    "from sklearn.metrics import silhouette_score\n",
    "from sklearn.feature_extraction.text import TfidfVectorizer,CountVectorizer\n",
    "import pandas as pd\n",
    "import numpy as np\n",
    "from matplotlib import pyplot as plt\n",
    "from sklearn.cluster import AgglomerativeClustering\n",
    "import scipy.cluster.hierarchy as sch\n",
    "import matplotlib.pyplot as plt\n",
    "from collections import Counter\n",
    "import porter\n",
    "import string\n",
    "\n",
    "\n",
    "wordIndex = \"\"\n",
    "\n",
    "def getStopSet(path = \"stopwords.txt\"):#construct the stopwords to set to minimize the time\n",
    "\twith open(path) as file:\n",
    "\t\tnewStopWords = []\n",
    "\t\tstopwords = file.readlines()\n",
    "\t\tfor element in stopwords:\n",
    "\t\t\tnewStopWords.append(element.strip())\n",
    "\t\tstopwords = set(newStopWords)\n",
    "\t\treturn stopwords\n",
    "\n",
    "def readContent(path = \"cnnhealth.txt\"):\n",
    "\twith open(path,encoding = 'utf-8') as file:\n",
    "\t\tcontent = []\n",
    "\t\tlines = file.readlines()\n",
    "\t\tfor line in lines:\n",
    "\t\t\tline = line.split('|')\n",
    "\t\t\tcontent.append(line[2])\n",
    "\t\treturn content\n",
    "\n",
    "def preProcessing(content):\n",
    "\tstopSet = getStopSet()\n",
    "\tp = porter.PorterStemmer()\n",
    "\tinfo = []\n",
    "\tfor line in content:\n",
    "\t\tnewLine = \"\"\n",
    "\t\tline = line.split(\" \")\n",
    "\t\tfor element in line:\n",
    "\t\t\ttemp = element.split(\"://\")\n",
    "\t\t\ttemp1 = element.split(\"@\")\n",
    "\t\t\ttemp2 = element.split(\"#\")\n",
    "\t\t\ttemp3 = element.split(\"/\")\n",
    "\t\t\tif len(temp)<2 and len(temp1)<2 and len(temp2)<2 and len(temp3)<2:\n",
    "\t\t\t\telement = element.strip()#clean the '\\n' \n",
    "\t\t\t\telement = element.lower()\n",
    "\t\t\t\telement = element.translate(str.maketrans('','', string.punctuation))\n",
    "\t\t\t\telement = p.stem(element)\n",
    "\t\t\t\tif element not in stopSet:\n",
    "\t\t\t\t\tnewLine = newLine+element+\" \"\n",
    "\t\tinfo.append(newLine)\n",
    "\treturn info\n",
    "\n",
    "def toVector(content,n_components):\n",
    "\tvectorizer = TfidfVectorizer()\n",
    "\tvector = vectorizer.fit_transform(content)\n",
    "\tvector = vector.toarray()\n",
    "\tlda = LatentDirichletAllocation(n_components=n_components)\n",
    "\tresult = lda.fit_transform(vector)\n",
    "\treturn result\n",
    "\n",
    "def cluster(vector):\n",
    "\tmodel = AgglomerativeClustering(n_clusters=13, affinity='euclidean', linkage='ward')\n",
    "\t#model = AgglomerativeClustering(n_clusters=13, affinity='manhattan', linkage='average')\n",
    "\tmodel.fit(vector)\n",
    "\treturn model.labels_\n",
    "\n",
    "\t\n",
    "def pca(vector):\n",
    "\tpca_vec =  PCA(n_components=2).fit_transform(vector)\n",
    "\treturn pca_vec\n",
    "\t\n",
    "def plot(vector,labels,numLabels):\n",
    "\tfor i in range(numLabels):\n",
    "\t\tplt.scatter(vector[labels==i, 0], vector[labels==i, 1])\n",
    "\tplt.show()\n",
    "\t\n",
    "\n",
    "content = readContent()\n",
    "content = preProcessing(content)\n",
    "vector = toVector(content,5)\n",
    "#dendrogram = sch.dendrogram(sch.linkage(vector, method='ward'))\n",
    "result = cluster(vector)\n",
    "score = 0\n",
    "score = silhouette_score(vector,result)\n",
    "print(score)\n",
    "lst = result.tolist()\n",
    "a = Counter(lst)\n",
    "print(a)\n",
    "diffSet = set(result)\n",
    "#print(len(diffSet))\n",
    "vector = pca(vector)\n",
    "#print(vector)\n",
    "plot(vector,result,len(diffSet))\n",
    "\n",
    "\n",
    "def get_top_features_cluster(content, prediction, n_feats):\n",
    "\tlabels = np.unique(prediction)\n",
    "\tvectorizer = TfidfVectorizer()\n",
    "\tvector = vectorizer.fit_transform(content)\n",
    "\ttf_idf_array = vector.toarray()\n",
    "\n",
    "\tdfs = []\n",
    "\tfor label in labels:\n",
    "\t\tid_temp = np.where(prediction==label) # indices for each cluster\n",
    "\t\tx_means = np.mean(tf_idf_array[id_temp], axis = 0) # returns average score across cluster\n",
    "\t\tsorted_means = np.argsort(x_means)[::-1][:n_feats] # indices with top 20 scores\n",
    "\t\tfeatures = vectorizer.get_feature_names()\n",
    "\t\tbest_features = [(features[i], x_means[i]) for i in sorted_means]\n",
    "\t\tdf = pd.DataFrame(best_features, columns = ['features', 'score'])\n",
    "\t\tdfs.append(df)\n",
    "\treturn dfs\n",
    "def top_2_cluster(dfs):\n",
    "\tscores = []\n",
    "\tfor i in dfs:\n",
    "\t\tscore = i[\"score\"].sum()\n",
    "\t\tscores.append(score)\n",
    "\tx = sorted(scores,reverse=True)[:2]\n",
    "\tbest = scores.index(x[0])\n",
    "\tsec_best = scores.index(x[1])\n",
    "\treturn best, sec_best\n",
    "dfs = get_top_features_cluster(content,result, 20)\n",
    "best, sec_best = top_2_cluster(dfs)\n",
    "print(dfs[best][:20]['features'].tolist())\n",
    "print(dfs[sec_best][:20]['features'].tolist())"
   ]
  },
  {
   "cell_type": "code",
   "execution_count": null,
   "metadata": {},
   "outputs": [],
   "source": [
    "\n"
   ]
  },
  {
   "cell_type": "code",
   "execution_count": null,
   "metadata": {},
   "outputs": [],
   "source": []
  }
 ],
 "metadata": {
  "kernelspec": {
   "display_name": "Python 3",
   "language": "python",
   "name": "python3"
  },
  "language_info": {
   "codemirror_mode": {
    "name": "ipython",
    "version": 3
   },
   "file_extension": ".py",
   "mimetype": "text/x-python",
   "name": "python",
   "nbconvert_exporter": "python",
   "pygments_lexer": "ipython3",
   "version": "3.7.6"
  }
 },
 "nbformat": 4,
 "nbformat_minor": 4
}
